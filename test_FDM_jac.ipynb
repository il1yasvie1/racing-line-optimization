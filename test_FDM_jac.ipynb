{
 "cells": [
  {
   "cell_type": "code",
   "execution_count": 1,
   "metadata": {},
   "outputs": [],
   "source": [
    "import numpy as np\n",
    "import scipy\n",
    "import scipy.optimize as opt\n",
    "import scipy.sparse as sp\n",
    "\n",
    "import matplotlib.pyplot as plt"
   ]
  },
  {
   "cell_type": "code",
   "execution_count": 9,
   "metadata": {},
   "outputs": [],
   "source": [
    "N = int(1e2)\n",
    "s = np.linspace(0, 1, N+1)\n",
    "h = 1/N\n",
    "\n",
    "vmax = 50.\n",
    "g = 9.8\n",
    "amin, amax = -2.*g, 4.*g\n",
    "mu = 5.\n",
    "\n",
    "x0, x1 = 12.5, -12.5\n",
    "y0, y1 = 0., 0.\n",
    "v0 = 17.5"
   ]
  },
  {
   "cell_type": "code",
   "execution_count": 10,
   "metadata": {},
   "outputs": [],
   "source": [
    "D1 = sp.diags([-1, 0, 1], offsets=[0, 1, 2], shape=(N-1, N+1))\n",
    "D2 = sp.diags([1, -2, 1], offsets=[0, 1, 2], shape=(N-1, N+1))\n",
    "\n",
    "D1 = sp.vstack([sp.csr_array([-3, 4, -1]+[0]*(N-2)), D1, sp.csr_array([0]*(N-2)+[1, -4, 3])])\n",
    "D2 = sp.vstack([sp.csr_array([2, -5, 4, -1]+[0]*(N-3)), D2, sp.csr_array([0]*(N-3) + [-1, 4, -5, 2])])\n",
    "\n",
    "D1 = D1/(2*h)\n",
    "D2 = D2/(h**2)\n",
    "\n",
    "I = sp.diags([1, 1], offsets=[0, 1], shape=(N, N+1))\n",
    "I = .5*h*I"
   ]
  },
  {
   "cell_type": "code",
   "execution_count": 11,
   "metadata": {},
   "outputs": [],
   "source": [
    "x_init = 12.5*np.cos(np.pi*s)[1:-1]\n",
    "y_init = 12.5*np.sin(np.pi*s)[1:-1]\n",
    "v_init = v0*np.ones(N)"
   ]
  },
  {
   "cell_type": "code",
   "execution_count": 12,
   "metadata": {},
   "outputs": [],
   "source": [
    "x_ = np.r_[x0, x_init, x1]\n",
    "y_ = np.r_[y0, y_init, y1]\n",
    "v_ = np.r_[v0, v_init]\n",
    "\n",
    "D1x = D1@x_\n",
    "D1y = D1@y_\n",
    "\n",
    "d = (D1x**2 + D1y**2)**.5\n",
    "t = np.sum(I@(d/v_))\n",
    "aT = v_*(D1@v_)/d\n",
    "aN = v_**2 * np.abs(D2@x_ * D1y - D2@y_*D1x)/d**3"
   ]
  },
  {
   "cell_type": "code",
   "execution_count": 26,
   "metadata": {},
   "outputs": [],
   "source": [
    "def smooth_max(u, eps=1e-3):\n",
    "    for i in range(len(u)):\n",
    "        if u[i]<=0:\n",
    "            u[i] = 0\n",
    "        elif u[i]<=eps:\n",
    "            u[i] = u[i]**2/(2*eps)\n",
    "        else:\n",
    "            u[i] = u[i] - eps/2\n",
    "    return u"
   ]
  },
  {
   "cell_type": "code",
   "execution_count": 27,
   "metadata": {},
   "outputs": [],
   "source": [
    "def f(x, y, v):\n",
    "    x_ = np.r_[x0, x, x1]\n",
    "    y_ = np.r_[y0, y, y1]\n",
    "    v_ = np.r_[v0, v]\n",
    "\n",
    "    D1x = D1@x_\n",
    "    D1y = D1@y_\n",
    "\n",
    "    d = (D1x**2 + D1y**2)**.5\n",
    "    t = np.sum(I@(d/v_))\n",
    "    aT = v_*(D1@v_)/d\n",
    "    aN = v_**2 * np.abs(D2@x_ * D1y - D2@y_*D1x)/d**3\n",
    "    r = (x**2 + y**2)**.5\n",
    "\n",
    "    res = t\n",
    "    res += smooth_max(-v)\n",
    "    res += smooth_max(v - vmax)\n",
    "\n",
    "    res += smooth_max(amin - aT)\n",
    "    \n",
    "    res += smooth_max(aT - amax)\n",
    "    res += smooth_max(aN - mu*g)\n",
    "    res += smooth_max(r - 15.)\n",
    "    res += smooth_max(12.5 -r)\n",
    "    return res"
   ]
  },
  {
   "cell_type": "code",
   "execution_count": 28,
   "metadata": {},
   "outputs": [
    {
     "ename": "ValueError",
     "evalue": "operands could not be broadcast together with shapes (100,) (101,) (100,) ",
     "output_type": "error",
     "traceback": [
      "\u001b[0;31m---------------------------------------------------------------------------\u001b[0m",
      "\u001b[0;31mValueError\u001b[0m                                Traceback (most recent call last)",
      "Cell \u001b[0;32mIn[28], line 1\u001b[0m\n\u001b[0;32m----> 1\u001b[0m \u001b[43mf\u001b[49m\u001b[43m(\u001b[49m\u001b[43mx_init\u001b[49m\u001b[43m,\u001b[49m\u001b[43m \u001b[49m\u001b[43my_init\u001b[49m\u001b[43m,\u001b[49m\u001b[43m \u001b[49m\u001b[43mv_init\u001b[49m\u001b[43m)\u001b[49m\n",
      "Cell \u001b[0;32mIn[27], line 18\u001b[0m, in \u001b[0;36mf\u001b[0;34m(x, y, v)\u001b[0m\n\u001b[1;32m     16\u001b[0m res \u001b[38;5;241m+\u001b[39m\u001b[38;5;241m=\u001b[39m smooth_max(\u001b[38;5;241m-\u001b[39mv)\n\u001b[1;32m     17\u001b[0m res \u001b[38;5;241m+\u001b[39m\u001b[38;5;241m=\u001b[39m smooth_max(v\u001b[38;5;241m-\u001b[39mvmax)\n\u001b[0;32m---> 18\u001b[0m \u001b[43mres\u001b[49m\u001b[43m \u001b[49m\u001b[38;5;241;43m+\u001b[39;49m\u001b[38;5;241;43m=\u001b[39;49m\u001b[43m \u001b[49m\u001b[43msmooth_max\u001b[49m\u001b[43m(\u001b[49m\u001b[43mamin\u001b[49m\u001b[43m \u001b[49m\u001b[38;5;241;43m-\u001b[39;49m\u001b[43m \u001b[49m\u001b[43maT\u001b[49m\u001b[43m)\u001b[49m\n\u001b[1;32m     19\u001b[0m res \u001b[38;5;241m+\u001b[39m\u001b[38;5;241m=\u001b[39m smooth_max(aT \u001b[38;5;241m-\u001b[39m amax)\n\u001b[1;32m     20\u001b[0m res \u001b[38;5;241m+\u001b[39m\u001b[38;5;241m=\u001b[39m smooth_max(aN \u001b[38;5;241m-\u001b[39m mu\u001b[38;5;241m*\u001b[39mg)\n",
      "\u001b[0;31mValueError\u001b[0m: operands could not be broadcast together with shapes (100,) (101,) (100,) "
     ]
    }
   ],
   "source": [
    "f(x_init, y_init, v_init)"
   ]
  },
  {
   "cell_type": "code",
   "execution_count": null,
   "metadata": {},
   "outputs": [],
   "source": []
  }
 ],
 "metadata": {
  "kernelspec": {
   "display_name": ".venv",
   "language": "python",
   "name": "python3"
  },
  "language_info": {
   "codemirror_mode": {
    "name": "ipython",
    "version": 3
   },
   "file_extension": ".py",
   "mimetype": "text/x-python",
   "name": "python",
   "nbconvert_exporter": "python",
   "pygments_lexer": "ipython3",
   "version": "3.12.6"
  }
 },
 "nbformat": 4,
 "nbformat_minor": 2
}
